{
 "cells": [
  {
   "cell_type": "code",
   "execution_count": 1,
   "id": "c4ef539b",
   "metadata": {},
   "outputs": [],
   "source": [
    "import pandas as pd\n",
    "import os\n",
    "import glob"
   ]
  },
  {
   "cell_type": "code",
   "execution_count": null,
   "id": "33f7676e",
   "metadata": {},
   "outputs": [],
   "source": [
    "def process_user_data_files():\n",
    "    base_path = \"/data2/julina/scripts/tweets/2020/03/\"\n",
    "    all_users_dir = os.path.join(base_path, \"user_csv/demo/\")\n",
    "    su_users_dir = os.path.join(base_path, \"pred/dm/\")\n",
    "    output_dir = os.path.join(base_path, \"SU_and_NON_SU_analysis/\")\n",
    "\n",
    "    print(f\"Creating output directory (if needed): {output_dir}\")\n",
    "    os.makedirs(output_dir, exist_ok=True)\n",
    "\n",
    "    all_users_filepaths = glob.glob(os.path.join(all_users_dir, \"*.csv\"))\n",
    "    if not all_users_filepaths:\n",
    "        print(f\"Error: No CSV files found in {all_users_dir}. Please check the path.\")\n",
    "        return\n",
    "    print(f\"Found {len(all_users_filepaths)} files to process.\")\n",
    "\n",
    "    all_classified_dfs = []\n",
    "    common_columns = ['id', 'gender', 'age', 'org', 'text', 'user_id', 'name', 'screen_name', 'description', 'lang', 'DrugAbuse']\n",
    "    for all_users_file in all_users_filepaths:\n",
    "        try:\n",
    "            base_filename = os.path.basename(all_users_file)\n",
    "            filename_without_ext = os.path.splitext(base_filename)[0]\n",
    "\n",
    "            su_users_file = os.path.join(su_users_dir, f\"{filename_without_ext}pred_dm.csv\")\n",
    "\n",
    "            print(\"-\" * 50)\n",
    "            print(f\"Processing: {base_filename}\")\n",
    "\n",
    "            if not os.path.exists(su_users_file):\n",
    "                print(f\"  -> SKIPPING: Corresponding SU file not found at {su_users_file}\")\n",
    "                continue\n",
    "\n",
    "            # --- Main Logic for each file pair ---\n",
    "            all_users_df = pd.read_csv(all_users_file)\n",
    "            su_users_df = pd.read_csv(su_users_file, index_col=0)\n",
    "            su_user_ids = su_users_df['user_id'].unique()\n",
    "            non_su_users_df = all_users_df[~all_users_df['user_id'].isin(su_user_ids)].copy()\n",
    "            non_su_users_df['DrugAbuse'] = 0\n",
    "            su_users_cleaned_df = su_users_df[common_columns].copy()\n",
    "\n",
    "            daily_final_df = pd.concat([non_su_users_df, su_users_cleaned_df], ignore_index=True)\n",
    "            all_classified_dfs.append(daily_final_df)\n",
    "            print(f\"  -> Processed and added to the collection.\")\n",
    "\n",
    "        except Exception as e:\n",
    "            print(f\"  -> ERROR processing {base_filename}: {e}\")\n",
    "            continue\n",
    "\n",
    "    if not all_classified_dfs:\n",
    "        print(\"No data was processed. Exiting.\")\n",
    "        return\n",
    "\n",
    "    print(\"-\" * 50)\n",
    "    print(\"All files processed. Now combining into a single master file...\")\n",
    "    \n",
    "    master_df = pd.concat(all_classified_dfs, ignore_index=True)\n",
    "    output_file = os.path.join(output_dir, \"all_users_classified_combined.csv\")\n",
    "    master_df.to_csv(output_file, index=False)\n",
    "    print(f\"\\nSUCCESS: Saved master file to {output_file}\")\n",
    "    print(\"\\nFinal data distribution in the master file:\")\n",
    "    print(master_df['DrugAbuse'].value_counts())\n",
    "    print(f\"\\nTotal rows in master file: {len(master_df)}\")\n",
    "    print(\"\\nBatch processing complete.\")\n"
   ]
  },
  {
   "cell_type": "code",
   "execution_count": 3,
   "id": "6334e827",
   "metadata": {},
   "outputs": [
    {
     "name": "stdout",
     "output_type": "stream",
     "text": [
      "Creating output directory (if needed): /data2/julina/scripts/tweets/2020/03/SU_and_NON_SU_analysis/\n",
      "Found 31 files to process.\n",
      "--------------------------------------------------\n",
      "Processing: 2020_03_31.csv\n",
      "  -> SKIPPING: Corresponding SU file not found at /data2/julina/scripts/tweets/2020/03/pred/dm/2020_03_31pred_dm.csv\n",
      "--------------------------------------------------\n",
      "Processing: 2020_03_20.csv\n"
     ]
    },
    {
     "name": "stderr",
     "output_type": "stream",
     "text": [
      "/tmp/ipykernel_3886202/2802271367.py:38: DtypeWarning: Columns (4,6,7,8,9) have mixed types. Specify dtype option on import or set low_memory=False.\n",
      "  all_users_df = pd.read_csv(all_users_file)\n"
     ]
    },
    {
     "name": "stdout",
     "output_type": "stream",
     "text": [
      "  -> Processed and added to the collection.\n",
      "--------------------------------------------------\n",
      "Processing: 2020_03_26.csv\n"
     ]
    },
    {
     "name": "stderr",
     "output_type": "stream",
     "text": [
      "/tmp/ipykernel_3886202/2802271367.py:38: DtypeWarning: Columns (4,6,7,8,9) have mixed types. Specify dtype option on import or set low_memory=False.\n",
      "  all_users_df = pd.read_csv(all_users_file)\n"
     ]
    },
    {
     "name": "stdout",
     "output_type": "stream",
     "text": [
      "  -> Processed and added to the collection.\n",
      "--------------------------------------------------\n",
      "Processing: 2020_03_24.csv\n"
     ]
    },
    {
     "name": "stderr",
     "output_type": "stream",
     "text": [
      "/tmp/ipykernel_3886202/2802271367.py:38: DtypeWarning: Columns (4,6,7,8,9) have mixed types. Specify dtype option on import or set low_memory=False.\n",
      "  all_users_df = pd.read_csv(all_users_file)\n"
     ]
    },
    {
     "name": "stdout",
     "output_type": "stream",
     "text": [
      "  -> Processed and added to the collection.\n",
      "--------------------------------------------------\n",
      "Processing: 2020_03_04.csv\n"
     ]
    },
    {
     "name": "stderr",
     "output_type": "stream",
     "text": [
      "/tmp/ipykernel_3886202/2802271367.py:38: DtypeWarning: Columns (4,6,7,8,9) have mixed types. Specify dtype option on import or set low_memory=False.\n",
      "  all_users_df = pd.read_csv(all_users_file)\n"
     ]
    },
    {
     "name": "stdout",
     "output_type": "stream",
     "text": [
      "  -> Processed and added to the collection.\n",
      "--------------------------------------------------\n",
      "Processing: 2020_03_25.csv\n"
     ]
    },
    {
     "name": "stderr",
     "output_type": "stream",
     "text": [
      "/tmp/ipykernel_3886202/2802271367.py:38: DtypeWarning: Columns (4,6,7,8,9) have mixed types. Specify dtype option on import or set low_memory=False.\n",
      "  all_users_df = pd.read_csv(all_users_file)\n"
     ]
    },
    {
     "name": "stdout",
     "output_type": "stream",
     "text": [
      "  -> Processed and added to the collection.\n",
      "--------------------------------------------------\n",
      "Processing: 2020_03_08.csv\n"
     ]
    },
    {
     "name": "stderr",
     "output_type": "stream",
     "text": [
      "/tmp/ipykernel_3886202/2802271367.py:38: DtypeWarning: Columns (4,6,7,8,9) have mixed types. Specify dtype option on import or set low_memory=False.\n",
      "  all_users_df = pd.read_csv(all_users_file)\n"
     ]
    },
    {
     "name": "stdout",
     "output_type": "stream",
     "text": [
      "  -> Processed and added to the collection.\n",
      "--------------------------------------------------\n",
      "Processing: 2020_03_30.csv\n"
     ]
    },
    {
     "name": "stderr",
     "output_type": "stream",
     "text": [
      "/tmp/ipykernel_3886202/2802271367.py:38: DtypeWarning: Columns (4,6,7,8,9) have mixed types. Specify dtype option on import or set low_memory=False.\n",
      "  all_users_df = pd.read_csv(all_users_file)\n"
     ]
    },
    {
     "name": "stdout",
     "output_type": "stream",
     "text": [
      "  -> Processed and added to the collection.\n",
      "--------------------------------------------------\n",
      "Processing: 2020_03_21.csv\n"
     ]
    },
    {
     "name": "stderr",
     "output_type": "stream",
     "text": [
      "/tmp/ipykernel_3886202/2802271367.py:38: DtypeWarning: Columns (4,6,7,8,9) have mixed types. Specify dtype option on import or set low_memory=False.\n",
      "  all_users_df = pd.read_csv(all_users_file)\n"
     ]
    },
    {
     "name": "stdout",
     "output_type": "stream",
     "text": [
      "  -> Processed and added to the collection.\n",
      "--------------------------------------------------\n",
      "Processing: 2020_03_22.csv\n"
     ]
    },
    {
     "name": "stderr",
     "output_type": "stream",
     "text": [
      "/tmp/ipykernel_3886202/2802271367.py:38: DtypeWarning: Columns (4,6,7,8,9) have mixed types. Specify dtype option on import or set low_memory=False.\n",
      "  all_users_df = pd.read_csv(all_users_file)\n"
     ]
    },
    {
     "name": "stdout",
     "output_type": "stream",
     "text": [
      "  -> Processed and added to the collection.\n",
      "--------------------------------------------------\n",
      "Processing: 2020_03_15.csv\n"
     ]
    },
    {
     "name": "stderr",
     "output_type": "stream",
     "text": [
      "/tmp/ipykernel_3886202/2802271367.py:38: DtypeWarning: Columns (4,6,7,8,9) have mixed types. Specify dtype option on import or set low_memory=False.\n",
      "  all_users_df = pd.read_csv(all_users_file)\n"
     ]
    },
    {
     "name": "stdout",
     "output_type": "stream",
     "text": [
      "  -> Processed and added to the collection.\n",
      "--------------------------------------------------\n",
      "Processing: 2020_03_16.csv\n"
     ]
    },
    {
     "name": "stderr",
     "output_type": "stream",
     "text": [
      "/tmp/ipykernel_3886202/2802271367.py:38: DtypeWarning: Columns (4,6,7,8,9) have mixed types. Specify dtype option on import or set low_memory=False.\n",
      "  all_users_df = pd.read_csv(all_users_file)\n"
     ]
    },
    {
     "name": "stdout",
     "output_type": "stream",
     "text": [
      "  -> Processed and added to the collection.\n",
      "--------------------------------------------------\n",
      "Processing: 2020_03_28.csv\n"
     ]
    },
    {
     "name": "stderr",
     "output_type": "stream",
     "text": [
      "/tmp/ipykernel_3886202/2802271367.py:38: DtypeWarning: Columns (4,6,7,8,9) have mixed types. Specify dtype option on import or set low_memory=False.\n",
      "  all_users_df = pd.read_csv(all_users_file)\n"
     ]
    },
    {
     "name": "stdout",
     "output_type": "stream",
     "text": [
      "  -> Processed and added to the collection.\n",
      "--------------------------------------------------\n",
      "Processing: 2020_03_19.csv\n"
     ]
    },
    {
     "name": "stderr",
     "output_type": "stream",
     "text": [
      "/tmp/ipykernel_3886202/2802271367.py:38: DtypeWarning: Columns (4,6,7,8,9) have mixed types. Specify dtype option on import or set low_memory=False.\n",
      "  all_users_df = pd.read_csv(all_users_file)\n"
     ]
    },
    {
     "name": "stdout",
     "output_type": "stream",
     "text": [
      "  -> Processed and added to the collection.\n",
      "--------------------------------------------------\n",
      "Processing: 2020_03_13.csv\n"
     ]
    },
    {
     "name": "stderr",
     "output_type": "stream",
     "text": [
      "/tmp/ipykernel_3886202/2802271367.py:38: DtypeWarning: Columns (4,6,7,8,9) have mixed types. Specify dtype option on import or set low_memory=False.\n",
      "  all_users_df = pd.read_csv(all_users_file)\n"
     ]
    },
    {
     "name": "stdout",
     "output_type": "stream",
     "text": [
      "  -> Processed and added to the collection.\n",
      "--------------------------------------------------\n",
      "Processing: 2020_03_01.csv\n"
     ]
    },
    {
     "name": "stderr",
     "output_type": "stream",
     "text": [
      "/tmp/ipykernel_3886202/2802271367.py:38: DtypeWarning: Columns (4,6,7,8,9) have mixed types. Specify dtype option on import or set low_memory=False.\n",
      "  all_users_df = pd.read_csv(all_users_file)\n"
     ]
    },
    {
     "name": "stdout",
     "output_type": "stream",
     "text": [
      "  -> Processed and added to the collection.\n",
      "--------------------------------------------------\n",
      "Processing: 2020_03_09.csv\n"
     ]
    },
    {
     "name": "stderr",
     "output_type": "stream",
     "text": [
      "/tmp/ipykernel_3886202/2802271367.py:38: DtypeWarning: Columns (4,6,7,8,9) have mixed types. Specify dtype option on import or set low_memory=False.\n",
      "  all_users_df = pd.read_csv(all_users_file)\n"
     ]
    },
    {
     "name": "stdout",
     "output_type": "stream",
     "text": [
      "  -> Processed and added to the collection.\n",
      "--------------------------------------------------\n",
      "Processing: 2020_03_14.csv\n"
     ]
    },
    {
     "name": "stderr",
     "output_type": "stream",
     "text": [
      "/tmp/ipykernel_3886202/2802271367.py:38: DtypeWarning: Columns (4,6,7,8,9) have mixed types. Specify dtype option on import or set low_memory=False.\n",
      "  all_users_df = pd.read_csv(all_users_file)\n"
     ]
    },
    {
     "name": "stdout",
     "output_type": "stream",
     "text": [
      "  -> Processed and added to the collection.\n",
      "--------------------------------------------------\n",
      "Processing: 2020_03_06.csv\n"
     ]
    },
    {
     "name": "stderr",
     "output_type": "stream",
     "text": [
      "/tmp/ipykernel_3886202/2802271367.py:38: DtypeWarning: Columns (4,6,7,8,9) have mixed types. Specify dtype option on import or set low_memory=False.\n",
      "  all_users_df = pd.read_csv(all_users_file)\n"
     ]
    },
    {
     "name": "stdout",
     "output_type": "stream",
     "text": [
      "  -> Processed and added to the collection.\n",
      "--------------------------------------------------\n",
      "Processing: 2020_03_11.csv\n"
     ]
    },
    {
     "name": "stderr",
     "output_type": "stream",
     "text": [
      "/tmp/ipykernel_3886202/2802271367.py:38: DtypeWarning: Columns (4,6,7,8,9) have mixed types. Specify dtype option on import or set low_memory=False.\n",
      "  all_users_df = pd.read_csv(all_users_file)\n"
     ]
    },
    {
     "name": "stdout",
     "output_type": "stream",
     "text": [
      "  -> Processed and added to the collection.\n",
      "--------------------------------------------------\n",
      "Processing: 2020_03_02.csv\n"
     ]
    },
    {
     "name": "stderr",
     "output_type": "stream",
     "text": [
      "/tmp/ipykernel_3886202/2802271367.py:38: DtypeWarning: Columns (4,6,7,8,9) have mixed types. Specify dtype option on import or set low_memory=False.\n",
      "  all_users_df = pd.read_csv(all_users_file)\n"
     ]
    },
    {
     "name": "stdout",
     "output_type": "stream",
     "text": [
      "  -> Processed and added to the collection.\n",
      "--------------------------------------------------\n",
      "Processing: 2020_03_23.csv\n"
     ]
    },
    {
     "name": "stderr",
     "output_type": "stream",
     "text": [
      "/tmp/ipykernel_3886202/2802271367.py:38: DtypeWarning: Columns (4,6,7,8,9) have mixed types. Specify dtype option on import or set low_memory=False.\n",
      "  all_users_df = pd.read_csv(all_users_file)\n"
     ]
    },
    {
     "name": "stdout",
     "output_type": "stream",
     "text": [
      "  -> Processed and added to the collection.\n",
      "--------------------------------------------------\n",
      "Processing: 2020_03_07.csv\n"
     ]
    },
    {
     "name": "stderr",
     "output_type": "stream",
     "text": [
      "/tmp/ipykernel_3886202/2802271367.py:38: DtypeWarning: Columns (4,6,7,8,9) have mixed types. Specify dtype option on import or set low_memory=False.\n",
      "  all_users_df = pd.read_csv(all_users_file)\n"
     ]
    },
    {
     "name": "stdout",
     "output_type": "stream",
     "text": [
      "  -> Processed and added to the collection.\n",
      "--------------------------------------------------\n",
      "Processing: 2020_03_03.csv\n"
     ]
    },
    {
     "name": "stderr",
     "output_type": "stream",
     "text": [
      "/tmp/ipykernel_3886202/2802271367.py:38: DtypeWarning: Columns (4,6,7,8,9) have mixed types. Specify dtype option on import or set low_memory=False.\n",
      "  all_users_df = pd.read_csv(all_users_file)\n"
     ]
    },
    {
     "name": "stdout",
     "output_type": "stream",
     "text": [
      "  -> Processed and added to the collection.\n",
      "--------------------------------------------------\n",
      "Processing: 2020_03_18.csv\n"
     ]
    },
    {
     "name": "stderr",
     "output_type": "stream",
     "text": [
      "/tmp/ipykernel_3886202/2802271367.py:38: DtypeWarning: Columns (4,6,7,8,9) have mixed types. Specify dtype option on import or set low_memory=False.\n",
      "  all_users_df = pd.read_csv(all_users_file)\n"
     ]
    },
    {
     "name": "stdout",
     "output_type": "stream",
     "text": [
      "  -> Processed and added to the collection.\n",
      "--------------------------------------------------\n",
      "Processing: 2020_03_29.csv\n"
     ]
    },
    {
     "name": "stderr",
     "output_type": "stream",
     "text": [
      "/tmp/ipykernel_3886202/2802271367.py:38: DtypeWarning: Columns (4,6,7,8,9) have mixed types. Specify dtype option on import or set low_memory=False.\n",
      "  all_users_df = pd.read_csv(all_users_file)\n"
     ]
    },
    {
     "name": "stdout",
     "output_type": "stream",
     "text": [
      "  -> Processed and added to the collection.\n",
      "--------------------------------------------------\n",
      "Processing: 2020_03_27.csv\n"
     ]
    },
    {
     "name": "stderr",
     "output_type": "stream",
     "text": [
      "/tmp/ipykernel_3886202/2802271367.py:38: DtypeWarning: Columns (4,6,7,8,9) have mixed types. Specify dtype option on import or set low_memory=False.\n",
      "  all_users_df = pd.read_csv(all_users_file)\n"
     ]
    },
    {
     "name": "stdout",
     "output_type": "stream",
     "text": [
      "  -> Processed and added to the collection.\n",
      "--------------------------------------------------\n",
      "Processing: 2020_03_10.csv\n"
     ]
    },
    {
     "name": "stderr",
     "output_type": "stream",
     "text": [
      "/tmp/ipykernel_3886202/2802271367.py:38: DtypeWarning: Columns (4,6,7,8,9) have mixed types. Specify dtype option on import or set low_memory=False.\n",
      "  all_users_df = pd.read_csv(all_users_file)\n"
     ]
    },
    {
     "name": "stdout",
     "output_type": "stream",
     "text": [
      "  -> Processed and added to the collection.\n",
      "--------------------------------------------------\n",
      "Processing: 2020_03_12.csv\n"
     ]
    },
    {
     "name": "stderr",
     "output_type": "stream",
     "text": [
      "/tmp/ipykernel_3886202/2802271367.py:38: DtypeWarning: Columns (4,6,7,8,9) have mixed types. Specify dtype option on import or set low_memory=False.\n",
      "  all_users_df = pd.read_csv(all_users_file)\n"
     ]
    },
    {
     "name": "stdout",
     "output_type": "stream",
     "text": [
      "  -> Processed and added to the collection.\n",
      "--------------------------------------------------\n",
      "Processing: 2020_03_05.csv\n"
     ]
    },
    {
     "name": "stderr",
     "output_type": "stream",
     "text": [
      "/tmp/ipykernel_3886202/2802271367.py:38: DtypeWarning: Columns (4,6,7,8,9) have mixed types. Specify dtype option on import or set low_memory=False.\n",
      "  all_users_df = pd.read_csv(all_users_file)\n"
     ]
    },
    {
     "name": "stdout",
     "output_type": "stream",
     "text": [
      "  -> Processed and added to the collection.\n",
      "--------------------------------------------------\n",
      "Processing: 2020_03_17.csv\n"
     ]
    },
    {
     "name": "stderr",
     "output_type": "stream",
     "text": [
      "/tmp/ipykernel_3886202/2802271367.py:38: DtypeWarning: Columns (4,6,7,8,9) have mixed types. Specify dtype option on import or set low_memory=False.\n",
      "  all_users_df = pd.read_csv(all_users_file)\n"
     ]
    },
    {
     "name": "stdout",
     "output_type": "stream",
     "text": [
      "  -> Processed and added to the collection.\n",
      "--------------------------------------------------\n",
      "All files processed. Now combining into a single master file...\n",
      "\n",
      "SUCCESS: Saved master file to /data2/julina/scripts/tweets/2020/03/SU_and_NON_SU_analysis/all_users_classified_combined.csv\n",
      "\n",
      "Final data distribution in the master file:\n",
      "DrugAbuse\n",
      "0    31901469\n",
      "1      340683\n",
      "Name: count, dtype: int64\n",
      "\n",
      "Total rows in master file: 32242152\n",
      "\n",
      "Batch processing complete.\n"
     ]
    }
   ],
   "source": [
    "\n",
    "process_user_data_files()"
   ]
  }
 ],
 "metadata": {
  "kernelspec": {
   "display_name": "gpu2",
   "language": "python",
   "name": "gpu2"
  },
  "language_info": {
   "codemirror_mode": {
    "name": "ipython",
    "version": 3
   },
   "file_extension": ".py",
   "mimetype": "text/x-python",
   "name": "python",
   "nbconvert_exporter": "python",
   "pygments_lexer": "ipython3",
   "version": "3.10.14"
  }
 },
 "nbformat": 4,
 "nbformat_minor": 5
}
